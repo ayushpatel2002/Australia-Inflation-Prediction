{
 "cells": [
  {
   "cell_type": "code",
   "execution_count": 2,
   "metadata": {},
   "outputs": [],
   "source": [
    "import pandas as pd\n",
    "from statsmodels.tsa.statespace.sarimax import SARIMAX"
   ]
  },
  {
   "cell_type": "markdown",
   "metadata": {},
   "source": [
    "## Model Selection: SARIMA\n",
    "\n",
    "SARIMA, or Seasonal Autoregressive Integrated Moving Average, is an extension of the ARIMA model that specifically includes components for seasonality. The justification for selecting SARIMA for the half-hourly energy demand time series in Victoria, Australia, is as follows:\n",
    "\n",
    "### Data Characteristics\n",
    "- **Stationarity**: The Augmented Dickey-Fuller (ADF) test confirmed that the time series is stationary, which is a prerequisite for ARIMA-based models.\n",
    "- **Seasonality**: The time series decomposition and Fourier analysis revealed clear seasonal patterns, which SARIMA can model with its seasonal parameters.\n",
    "\n",
    "### Model Capabilities\n",
    "- **Flexibility**: SARIMA's flexibility allows it to model a broad class of seasonal time series.\n",
    "- **Seasonal Parameters**: It includes seasonal autoregressive (P), differencing (D), and moving average (Q) parameters along with a period (s) parameter to explicitly model the seasonality observed in the data.\n",
    "- **Interpretability**: SARIMA models provide interpretable parameters that correspond to the data's autocorrelations and partial autocorrelations, making them favorable for understanding the driving forces behind the time series.\n",
    "\n",
    "### Predictive Performance\n",
    "- **Accuracy**: SARIMA models are known for their accuracy in forecasting time series data with seasonal patterns.\n",
    "- **Adaptability**: They can be tuned to adapt to changes in the time series' structure over time, accommodating evolving trends and seasonal effects.\n",
    "\n",
    "Given these points, SARIMA is a well-suited model for forecasting the energy demand time series and will be the primary focus in the next phase of our analysis.\n"
   ]
  },
  {
   "cell_type": "code",
   "execution_count": 3,
   "metadata": {},
   "outputs": [],
   "source": [
    "vic_data = pd.read_csv(\"vic_data.csv\")"
   ]
  },
  {
   "cell_type": "code",
   "execution_count": 5,
   "metadata": {},
   "outputs": [
    {
     "name": "stderr",
     "output_type": "stream",
     "text": [
      " This problem is unconstrained.\n"
     ]
    },
    {
     "name": "stdout",
     "output_type": "stream",
     "text": [
      "RUNNING THE L-BFGS-B CODE\n",
      "\n",
      "           * * *\n",
      "\n",
      "Machine precision = 2.220D-16\n",
      " N =            5     M =           10\n",
      "\n",
      "At X0         0 variables are exactly at the bounds\n",
      "\n",
      "At iterate    0    f=  5.50960D+00    |proj g|=  1.10059D-01\n",
      "\n",
      "At iterate    5    f=  5.43995D+00    |proj g|=  7.31330D-03\n",
      "\n",
      "At iterate   10    f=  5.42859D+00    |proj g|=  1.88540D-02\n",
      "\n",
      "At iterate   15    f=  5.39936D+00    |proj g|=  2.82116D-02\n",
      "\n",
      "At iterate   20    f=  5.39869D+00    |proj g|=  6.12257D-06\n",
      "\n",
      "           * * *\n",
      "\n",
      "Tit   = total number of iterations\n",
      "Tnf   = total number of function evaluations\n",
      "Tnint = total number of segments explored during Cauchy searches\n",
      "Skip  = number of BFGS updates skipped\n",
      "Nact  = number of active bounds at final generalized Cauchy point\n",
      "Projg = norm of the final projected gradient\n",
      "F     = final function value\n",
      "\n",
      "           * * *\n",
      "\n",
      "   N    Tit     Tnf  Tnint  Skip  Nact     Projg        F\n",
      "    5     20     25      1     0     0   6.123D-06   5.399D+00\n",
      "  F =   5.3986900743800623     \n",
      "\n",
      "CONVERGENCE: NORM_OF_PROJECTED_GRADIENT_<=_PGTOL            \n"
     ]
    },
    {
     "ename": "",
     "evalue": "",
     "output_type": "error",
     "traceback": [
      "\u001b[1;31mThe Kernel crashed while executing code in the the current cell or a previous cell. Please review the code in the cell(s) to identify a possible cause of the failure. Click <a href='https://aka.ms/vscodeJupyterKernelCrash'>here</a> for more info. View Jupyter <a href='command:jupyter.viewOutput'>log</a> for further details."
     ]
    }
   ],
   "source": [
    "p, d, q = 1, 1, 1  # Non-seasonal orders\n",
    "P, D, Q, s = 1, 1, 1, 48  # Seasonal orders (48 half-hours in a day for daily seasonality)\n",
    "\n",
    "# Initialize the model\n",
    "sarima_model = SARIMAX(vic_data['demand'], order=(p, d, q), seasonal_order=(P, D, Q, s))\n",
    "\n",
    "# Fit the model\n",
    "sarima_result = sarima_model.fit()\n",
    "\n",
    "# Summary of the model\n",
    "print(sarima_result.summary())\n",
    "\n",
    "# Forecasting\n",
    "n_periods = 48  # Let's forecast the next day (48 half-hour periods)\n",
    "forecast = sarima_result.get_forecast(steps=n_periods)\n",
    "forecast_df = forecast.conf_int()\n",
    "forecast_df['Forecast'] = sarima_result.predict(start=forecast_df.index[0], end=forecast_df.index[-1])\n",
    "\n",
    "# Plot the forecast alongside the data\n",
    "import matplotlib.pyplot as plt\n",
    "\n",
    "plt.figure(figsize=(10, 5))\n",
    "plt.plot(vic_data['demand'], label='Energy Demand')\n",
    "plt.plot(forecast_df['Forecast'], label='Forecast')\n",
    "plt.fill_between(forecast_df.index,\n",
    "                 forecast_df.iloc[:, 0],\n",
    "                 forecast_df.iloc[:, 1], color='k', alpha=0.2)\n",
    "plt.legend()\n",
    "plt.show()"
   ]
  }
 ],
 "metadata": {
  "kernelspec": {
   "display_name": "Python 3",
   "language": "python",
   "name": "python3"
  },
  "language_info": {
   "codemirror_mode": {
    "name": "ipython",
    "version": 3
   },
   "file_extension": ".py",
   "mimetype": "text/x-python",
   "name": "python",
   "nbconvert_exporter": "python",
   "pygments_lexer": "ipython3",
   "version": "3.9.6"
  }
 },
 "nbformat": 4,
 "nbformat_minor": 2
}
